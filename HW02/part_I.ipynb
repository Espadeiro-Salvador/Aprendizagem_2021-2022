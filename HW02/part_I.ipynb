{
 "cells": [
  {
   "cell_type": "code",
   "execution_count": 11,
   "id": "42f99268-70b3-46da-a073-300d6efa8c6b",
   "metadata": {},
   "outputs": [],
   "source": [
    "import numpy as np\n",
    "from scipy.stats import norm\n",
    "from scipy.stats import multivariate_normal\n",
    "data = np.array([\n",
    "    [1, 1, 0],\n",
    "    [1, 1, 5],\n",
    "    [0, 2, 4],\n",
    "    [1, 2, 3],\n",
    "    [2, 0, 7],\n",
    "    [1, 1, 1],\n",
    "    [2, 0, 2],\n",
    "    [0, 2, 9],\n",
    "    [2, 0, 0],\n",
    "    [1, 2, 1]\n",
    "])\n",
    "target = np.array([1, 3, 2, 0, 6, 4, 5, 7, 2, 4])\n",
    "data_train = data[:8,:]\n",
    "data_test = data[8:,:]\n",
    "target_train = target[:8]\n",
    "target_test = target[8:]\n",
    "#data = np.array([[41.9, 29.1],[43.4, 29.3],[43.9, 29.5],[44.5, 29.7],[47.3, 29.9],[47.5, 30.3],[47.9, 30.5],[50.2, 30.7],[52.8, 30.8],[53.2, 30.9],[56.7, 31.5],[57.0, 31.7],[63.5, 31.9],[65.3, 32.0],[71.1, 32.1],[77.0, 32.5],[77.8, 32.9])\n",
    "#target = np.array([251.3, 251.3, 248.3, 267.5, 273.0, 276.5, 270.3, 274.9, 285.0, 290.0, 297.0, 302.5, 304.5, 309.3, 321.7, 330.7, 349.0])\n",
    "#data_train = data\n",
    "#target_train = target"
   ]
  },
  {
   "cell_type": "markdown",
   "id": "4ea80df5-d144-4723-bbe4-e5979045702c",
   "metadata": {},
   "source": [
    "# Polynomial Regression"
   ]
  },
  {
   "cell_type": "markdown",
   "id": "14d90fda-fcb2-4953-bc05-4b79f8e9b645",
   "metadata": {},
   "source": [
    "## Basis Function"
   ]
  },
  {
   "cell_type": "code",
   "execution_count": 12,
   "id": "9445628a-fb38-4293-a43d-cc3e39bf394e",
   "metadata": {},
   "outputs": [],
   "source": [
    "def basis_function(data,i,j):\n",
    "    if j == 0: return 1\n",
    "    #return data[i][j-1]\n",
    "    #print(data[i])\n",
    "    return np.linalg.norm(data[i])**j"
   ]
  },
  {
   "cell_type": "markdown",
   "id": "8adbb2e3-8958-4cca-99f4-5061f01bd6e6",
   "metadata": {},
   "source": [
    "## Design Matrix"
   ]
  },
  {
   "cell_type": "code",
   "execution_count": 13,
   "id": "17f804cc-79f4-4e8f-8b12-6e575a4d1aa6",
   "metadata": {},
   "outputs": [
    {
     "name": "stdout",
     "output_type": "stream",
     "text": [
      "Design Matrix\n",
      " [[  1.      1.414   2.      2.828]\n",
      " [  1.      5.196  27.    140.296]\n",
      " [  1.      4.472  20.     89.443]\n",
      " [  1.      3.742  14.     52.383]\n",
      " [  1.      7.28   53.    385.846]\n",
      " [  1.      1.732   3.      5.196]\n",
      " [  1.      2.828   8.     22.627]\n",
      " [  1.      9.22   85.    783.661]]\n"
     ]
    }
   ],
   "source": [
    "M = 3\n",
    "n = len(data_train)\n",
    "design_matrix = np.array([[1 for i in range(M+1)] for j in range(n)], dtype=np.float32)\n",
    "for i in range(n):\n",
    "    for j in range(M+1):\n",
    "        design_matrix[i][j] = np.round(basis_function(data_train, i, j), decimals=3)    \n",
    "print(\"Design Matrix\\n\",design_matrix)"
   ]
  },
  {
   "cell_type": "markdown",
   "id": "eaebe9ab-0fa7-4953-a9a0-25d02861184b",
   "metadata": {},
   "source": [
    "## Weights"
   ]
  },
  {
   "cell_type": "code",
   "execution_count": 14,
   "id": "7cb99c52-f404-4683-a202-999e28fca9da",
   "metadata": {},
   "outputs": [
    {
     "name": "stdout",
     "output_type": "stream",
     "text": [
      "w ->  [ 4.5939 -1.6959  0.3396 -0.0134]\n"
     ]
    }
   ],
   "source": [
    "weights = np.array([1 for j in range(n)], dtype=np.float32)\n",
    "#print(np.matmul(design_matrix.T,design_matrix))\n",
    "weights = np.matmul(np.matmul(np.linalg.inv(np.matmul(design_matrix.T,design_matrix)),design_matrix.T),target_train)\n",
    "weights = np.round(weights,decimals=4)\n",
    "print(\"w -> \", weights)"
   ]
  },
  {
   "cell_type": "code",
   "execution_count": 15,
   "id": "7e657000-3ff9-4a61-9c43-da104c81d0cb",
   "metadata": {},
   "outputs": [
    {
     "name": "stdout",
     "output_type": "stream",
     "text": [
      "RMSE -> 1.5697133496278868\n"
     ]
    }
   ],
   "source": [
    "import math\n",
    "RMSE = 0\n",
    "for i in range(len(data_train)):\n",
    "    func_xi = np.round(np.array([basis_function(data_train, i, j) for j in range(M+1)]),decimals=3)\n",
    "    #print(func_xi)\n",
    "    #print(np.round(np.matmul(func_xi.T, weights),decimals=3), target_train[i])\n",
    "    #print(np.round((target_train[i] - np.matmul(func_xi.T, weights))**2,decimals=3))\n",
    "    RMSE += np.round((target_train[i] - np.matmul(func_xi.T, weights))**2,decimals=3)   \n",
    "RMSE = math.sqrt(RMSE/n)\n",
    "print(\"RMSE ->\", RMSE)"
   ]
  },
  {
   "cell_type": "markdown",
   "id": "a237a39e-0e5b-44d6-aee1-51eafb47a15b",
   "metadata": {},
   "source": [
    "# Decision Tree"
   ]
  },
  {
   "cell_type": "code",
   "execution_count": 16,
   "id": "c14249e1-2a00-4e7f-8d67-5e5a89f8e183",
   "metadata": {},
   "outputs": [],
   "source": [
    "split = np.median(data_train[:,2])\n",
    "for i in range(len(data_train)):\n",
    "    if target_train[i] < 4: target_train[i] = 0\n",
    "    else: target_train[i] = 1\n",
    "    if data_train[i,2] <= split: data_train[i,2] = 0\n",
    "    else: data_train[i,2] = 1"
   ]
  },
  {
   "cell_type": "code",
   "execution_count": 17,
   "id": "c74a8736-8ab9-40bd-a605-28a8721099d8",
   "metadata": {},
   "outputs": [
    {
     "name": "stdout",
     "output_type": "stream",
     "text": [
      "[0.34436093777043353, 0.31127812445913294, 0.0]\n",
      "(0, 0.34436093777043353)\n"
     ]
    }
   ],
   "source": [
    "from math import log2\n",
    "from scipy.stats import entropy\n",
    "\n",
    "def select_feature(data_train,target_train, variables):\n",
    "    p_c0 = np.count_nonzero(target_train == 0)/len(target_train)\n",
    "    p_c1 = np.count_nonzero(target_train == 1)/len(target_train)\n",
    "\n",
    "    c_entropy = entropy([p_c0,p_c1], base=2)\n",
    "\n",
    "    filters = []\n",
    "    probs = []\n",
    "    for i in range(len(variables)):\n",
    "        filters.append([])\n",
    "        probs.append([])\n",
    "        for cl in variables[i]:\n",
    "            filters[i].append([data_train[:,i][j] == cl for j in range(len(data_train))])\n",
    "            probs[i].append(np.count_nonzero(data_train[:,i] == cl)/len(data_train))\n",
    "\n",
    " \n",
    "    probs_cond = []\n",
    "    for i in range(len(variables)):\n",
    "        probs_cond.append([])\n",
    "        for j in range(len(variables[i])):\n",
    "            probs_cond[i].append([])\n",
    "            probs_cond[i][j].append(np.count_nonzero(target_train[filters[i][j]] == 0)/len(target_train[filters[i][j]]))\n",
    "            probs_cond[i][j].append(np.count_nonzero(target_train[filters[i][j]] == 1)/len(target_train[filters[i][j]]))\n",
    "\n",
    "    InfoG = []\n",
    "    for i in range(len(variables)):\n",
    "        cond_entropy = 0\n",
    "        for j in range(len(variables[i])):\n",
    "            cond_entropy += probs[i][j]*entropy(probs_cond[i][j], base=2)\n",
    "        InfoG.append(c_entropy-cond_entropy)\n",
    "    print(InfoG)\n",
    "    return InfoG.index(max(InfoG)), max(InfoG)\n",
    "\n",
    "def get_variables(data):\n",
    "    variables = []\n",
    "    for i in range(len(data[0])):\n",
    "        variables.append([])\n",
    "        for j in range(len(data)):\n",
    "            if not data[j,i] in variables[i]:\n",
    "                variables[i].append(data[j,i])\n",
    "    return variables\n",
    "\n",
    "variables = get_variables(data_train)\n",
    "res = select_feature(data_train, target_train, variables)\n",
    "print(res)\n"
   ]
  },
  {
   "cell_type": "code",
   "execution_count": null,
   "id": "68b6c805-a6b7-4f0c-9a49-413b9ddbbfa4",
   "metadata": {},
   "outputs": [],
   "source": []
  },
  {
   "cell_type": "code",
   "execution_count": null,
   "id": "4d2e910d-8b85-4ff9-8132-ecdad53eebb2",
   "metadata": {},
   "outputs": [],
   "source": []
  }
 ],
 "metadata": {
  "interpreter": {
   "hash": "31f2aee4e71d21fbe5cf8b01ff0e069b9275f58929596ceb00d14d90e3e16cd6"
  },
  "kernelspec": {
   "display_name": "Python 3.8.10 64-bit",
   "name": "python3"
  },
  "language_info": {
   "codemirror_mode": {
    "name": "ipython",
    "version": 3
   },
   "file_extension": ".py",
   "mimetype": "text/x-python",
   "name": "python",
   "nbconvert_exporter": "python",
   "pygments_lexer": "ipython3",
   "version": "3.8.10"
  }
 },
 "nbformat": 4,
 "nbformat_minor": 5
}
