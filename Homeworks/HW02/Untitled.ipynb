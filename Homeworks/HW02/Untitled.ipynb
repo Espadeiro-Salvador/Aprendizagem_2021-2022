{
 "cells": [
  {
   "cell_type": "code",
   "execution_count": 18,
   "id": "42f99268-70b3-46da-a073-300d6efa8c6b",
   "metadata": {},
   "outputs": [],
   "source": [
    "import numpy as np\n",
    "from scipy.stats import norm\n",
    "from scipy.stats import multivariate_normal\n",
    "data = np.array([\n",
    "    [1, 1, 0],\n",
    "    [1, 1, 5],\n",
    "    [0, 2, 4],\n",
    "    [1, 2, 3],\n",
    "    [2, 0, 7],\n",
    "    [1, 1, 1],\n",
    "    [2, 0, 2],\n",
    "    [0, 2, 9],\n",
    "    [2, 0, 0],\n",
    "    [1, 2, 1]\n",
    "])\n",
    "target = np.array([1, 3, 2, 0, 6, 4, 5, 7, 2, 4])\n",
    "data_train = data[:8,:]\n",
    "data_test = data[8:,:]\n",
    "target_train = target[:8]\n",
    "target_test = target[8:]\n",
    "\n",
    "#data = np.array([[41.9, 29.1],[43.4, 29.3],[43.9, 29.5],[44.5, 29.7],[47.3, 29.9],[47.5, 30.3],[47.9, 30.5],[50.2, 30.7],[52.8, 30.8],[53.2, 30.9],[56.7, 31.5],[57.0, 31.7],[63.5, 31.9],[65.3, 32.0],[71.1, 32.1],[77.0, 32.5],[77.8, 32.9])\n",
    "#target = np.array([251.3, 251.3, 248.3, 267.5, 273.0, 276.5, 270.3, 274.9, 285.0, 290.0, 297.0, 302.5, 304.5, 309.3, 321.7, 330.7, 349.0])\n",
    "#data_train = data\n",
    "#target_train = target"
   ]
  },
  {
   "cell_type": "markdown",
   "id": "4ea80df5-d144-4723-bbe4-e5979045702c",
   "metadata": {},
   "source": [
    "# Polynomial Regression"
   ]
  },
  {
   "cell_type": "markdown",
   "id": "14d90fda-fcb2-4953-bc05-4b79f8e9b645",
   "metadata": {},
   "source": [
    "## Basis Function"
   ]
  },
  {
   "cell_type": "code",
   "execution_count": 19,
   "id": "9445628a-fb38-4293-a43d-cc3e39bf394e",
   "metadata": {},
   "outputs": [],
   "source": [
    "def basis_function(data,i,j):\n",
    "    if j == 0: return 1\n",
    "    #return data[i][j-1]\n",
    "    return np.linalg.norm(data[i])**j"
   ]
  },
  {
   "cell_type": "markdown",
   "id": "8adbb2e3-8958-4cca-99f4-5061f01bd6e6",
   "metadata": {},
   "source": [
    "## Design Matrix"
   ]
  },
  {
   "cell_type": "code",
   "execution_count": 20,
   "id": "17f804cc-79f4-4e8f-8b12-6e575a4d1aa6",
   "metadata": {},
   "outputs": [
    {
     "name": "stdout",
     "output_type": "stream",
     "text": [
      "Design Matrix\n",
      " [[  1.          1.4142135   2.          2.828427 ]\n",
      " [  1.          5.196152   27.        140.29611  ]\n",
      " [  1.          4.472136   20.         89.44272  ]\n",
      " [  1.          3.7416575  14.         52.3832   ]\n",
      " [  1.          7.28011    53.        385.84583  ]\n",
      " [  1.          1.7320508   3.          5.196152 ]\n",
      " [  1.          2.828427    8.         22.627417 ]\n",
      " [  1.          9.219544   85.        783.66125  ]]\n"
     ]
    }
   ],
   "source": [
    "M = 3\n",
    "n = len(data_train)\n",
    "design_matrix = np.array([[1 for i in range(M+1)] for j in range(n)], dtype=np.float32)\n",
    "for i in range(n):\n",
    "    for j in range(M+1):\n",
    "        design_matrix[i][j] = basis_function(data_train, i, j)    \n",
    "print(\"Design Matrix\\n\",design_matrix)"
   ]
  },
  {
   "cell_type": "markdown",
   "id": "eaebe9ab-0fa7-4953-a9a0-25d02861184b",
   "metadata": {},
   "source": [
    "## Weights"
   ]
  },
  {
   "cell_type": "code",
   "execution_count": 21,
   "id": "7cb99c52-f404-4683-a202-999e28fca9da",
   "metadata": {},
   "outputs": [
    {
     "name": "stdout",
     "output_type": "stream",
     "text": [
      "w ->  [ 4.58341172 -1.68710379  0.33773655 -0.01330492]\n"
     ]
    }
   ],
   "source": [
    "weights = np.array([1 for j in range(n)], dtype=np.float32)\n",
    "#print(np.matmul(design_matrix.T,design_matrix))\n",
    "weights = np.matmul(np.matmul(np.linalg.inv(np.matmul(design_matrix.T,design_matrix)),design_matrix.T),target_train)\n",
    "print(\"w -> \", weights)"
   ]
  },
  {
   "cell_type": "code",
   "execution_count": 22,
   "id": "7e657000-3ff9-4a61-9c43-da104c81d0cb",
   "metadata": {},
   "outputs": [
    {
     "name": "stdout",
     "output_type": "stream",
     "text": [
      "RMSE -> 1.5699807121071832\n"
     ]
    }
   ],
   "source": [
    "import math\n",
    "RMSE = 0\n",
    "for i in range(len(data_train)):\n",
    "    func_xi = np.array([basis_function(data_train, i, j) for j in range(M+1)])\n",
    "    #print(func_xi)\n",
    "    #print(target_train[i], np.matmul(func_xi.T, weights))\n",
    "    RMSE += (target_train[i] - np.matmul(func_xi.T, weights))**2\n",
    "RMSE = math.sqrt(RMSE/n)\n",
    "print(\"RMSE ->\", RMSE)"
   ]
  },
  {
   "cell_type": "markdown",
   "id": "a237a39e-0e5b-44d6-aee1-51eafb47a15b",
   "metadata": {},
   "source": [
    "# Decision Tree"
   ]
  },
  {
   "cell_type": "code",
   "execution_count": 23,
   "id": "c14249e1-2a00-4e7f-8d67-5e5a89f8e183",
   "metadata": {},
   "outputs": [],
   "source": [
    "split = np.median(data_train[:,2])\n",
    "for i in range(len(data_train)):\n",
    "    if target_train[i] < 4: target_train[i] = 0\n",
    "    else: target_train[i] = 1\n",
    "    if data_train[i,2] <= split: data_train[i,2] = 0\n",
    "    else: data_train[i,2] = 1"
   ]
  },
  {
   "cell_type": "code",
   "execution_count": 40,
   "id": "c74a8736-8ab9-40bd-a605-28a8721099d8",
   "metadata": {},
   "outputs": [
    {
     "name": "stdout",
     "output_type": "stream",
     "text": [
      "1.0\n",
      "[0 0 0 1]\n",
      "-0.25 0.75 0.5\n"
     ]
    }
   ],
   "source": [
    "from math import log2\n",
    "from scipy.stats import entropy\n",
    "p_c0 = np.count_nonzero(target_train == 0)/len(target_train)\n",
    "p_c1 = np.count_nonzero(target_train == 1)/len(target_train)\n",
    "#I_data_train = -p_c0*math.log2(p_c0)-p_c1*math.log2(p_c1)\n",
    "print(entropy([p_c0,p_c1], base=2))\n",
    "#print(I_data_train)\n",
    "\n",
    "y10_filter = [data_train[:,0][i] == 0 for i in range(len(data_train))]\n",
    "y11_filter = [data_train[:,0][i] == 1 for i in range(len(data_train))]\n",
    "y12_filter = [data_train[:,0][i] == 2 for i in range(len(data_train))]\n",
    "y20_filter = [data_train[:,1][i] == 0 for i in range(len(data_train))]\n",
    "y21_filter = [data_train[:,1][i] == 1 for i in range(len(data_train))]\n",
    "y22_filter = [data_train[:,1][i] == 2 for i in range(len(data_train))]\n",
    "y30_filter = [data_train[:,2][i] == 0 for i in range(len(data_train))]\n",
    "print(target_train[y11_filter])\n",
    "\n",
    "p_y10 = np.count_nonzero(data_train[:,0] == 0)/len(data_train) \n",
    "p_y11 = np.count_nonzero(data_train[:,0] == 1)/len(data_train) \n",
    "p_y12 = np.count_nonzero(data_train[:,0] == 2)/len(data_train) \n",
    "p_y20 = np.count_nonzero(data_train[:,1] == 0)/len(data_train) \n",
    "p_y21 = np.count_nonzero(data_train[:,1] == 1)/len(data_train) \n",
    "p_y22 = np.count_nonzero(data_train[:,1] == 2)/len(data_train) \n",
    "p_y30 = np.count_nonzero(data_train[:,2] == 0)/len(data_train) \n",
    "p_y31 = np.count_nonzero(data_train[:,2] == 1)/len(data_train) \n",
    "p_c0_y10 = np.count_nonzero(target_train[y10_filter] == 0)/len(target_train[y10_filter])\n",
    "p_c0_y11 = np.count_nonzero(target_train[y11_filter] == 0)/len(target_train[y11_filter])\n",
    "p_c0_y12 = 1 - p_c0_y10 - p_c0_y11\n",
    "print(p_c0_y12, p_c0_y11, p_c0_y10)\n",
    "p_y10_c1 = np.count_nonzero(data_train[c1_filter][:,0] == 0)/len(data_train[c1_filter])\n",
    "p_y11_c1 = np.count_nonzero(data_train[c1_filter][:,0] == 1)/len(data_train[c1_filter])\n",
    "p_y12_c1 = np.count_nonzero(data_train[c1_filter][:,0] == 2)/len(data_train[c1_filter])\n",
    "p_y20_c0 = np.count_nonzero(data_train[c0_filter][:,1] == 0)/len(data_train[c0_filter])\n",
    "p_y21_c0 = np.count_nonzero(data_train[c0_filter][:,1] == 1)/len(data_train[c0_filter])\n",
    "p_y22_c0 = np.count_nonzero(data_train[c0_filter][:,1] == 2)/len(data_train[c0_filter])\n",
    "p_y20_c1 = np.count_nonzero(data_train[c1_filter][:,1] == 0)/len(data_train[c1_filter])\n",
    "p_y21_c1 = np.count_nonzero(data_train[c1_filter][:,1] == 1)/len(data_train[c1_filter])\n",
    "p_y22_c1 = np.count_nonzero(data_train[c1_filter][:,1] == 2)/len(data_train[c1_filter])\n",
    "p_y20_c0 = np.count_nonzero(data_train[c0_filter][:,2] == 0)/len(data_train[c0_filter])\n",
    "p_y21_c0 = np.count_nonzero(data_train[c0_filter][:,2] == 1)/len(data_train[c0_filter])\n",
    "p_y20_c1 = np.count_nonzero(data_train[c1_filter][:,2] == 0)/len(data_train[c1_filter])\n",
    "p_y21_c1 = np.count_nonzero(data_train[c1_filter][:,2] == 1)/len(data_train[c1_filter])\n",
    "\n"
   ]
  },
  {
   "cell_type": "code",
   "execution_count": null,
   "id": "68b6c805-a6b7-4f0c-9a49-413b9ddbbfa4",
   "metadata": {},
   "outputs": [],
   "source": []
  },
  {
   "cell_type": "code",
   "execution_count": null,
   "id": "4d2e910d-8b85-4ff9-8132-ecdad53eebb2",
   "metadata": {},
   "outputs": [],
   "source": []
  }
 ],
 "metadata": {
  "kernelspec": {
   "display_name": "Python 3 (ipykernel)",
   "language": "python",
   "name": "python3"
  },
  "language_info": {
   "codemirror_mode": {
    "name": "ipython",
    "version": 3
   },
   "file_extension": ".py",
   "mimetype": "text/x-python",
   "name": "python",
   "nbconvert_exporter": "python",
   "pygments_lexer": "ipython3",
   "version": "3.8.10"
  }
 },
 "nbformat": 4,
 "nbformat_minor": 5
}
