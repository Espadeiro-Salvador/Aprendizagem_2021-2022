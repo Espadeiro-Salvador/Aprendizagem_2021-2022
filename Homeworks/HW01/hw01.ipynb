{
 "cells": [
  {
   "cell_type": "code",
   "execution_count": 2,
   "id": "8f6a6325-8f6a-454e-9e91-4c623dd18ca8",
   "metadata": {},
   "outputs": [],
   "source": [
    "import numpy as np\n",
    "from scipy.stats import norm\n",
    "from scipy.stats import multivariate_normal\n",
    "data = np.array([\n",
    "    [0.6, 0, 0.2, 0.4],\n",
    "    [0.1, 1, -0.1, -0.4],\n",
    "    [0.2, 0, -0.1, 0.2],\n",
    "    [0.1, 2, 0.8, 0.8],\n",
    "    [0.3, 1, 0.1, 0.3],\n",
    "    [-0.1, 2, 0.2, -0.2],\n",
    "    [-0.3, 2, -0.1, 0.2],\n",
    "    [0.2, 1, 0.5, 0.6],\n",
    "    [0.4, 0, -0.4, -0.7],\n",
    "    [-0.2, 2, 0.4, 0.3]\n",
    "])\n",
    "target = np.array([0, 0, 0, 0, 1, 1, 1, 1, 1, 1])"
   ]
  },
  {
   "cell_type": "code",
   "execution_count": 3,
   "id": "b5457aa2-c8e6-4f98-a7b3-fb4c81cdd64f",
   "metadata": {},
   "outputs": [],
   "source": [
    "c0_filter = []\n",
    "c1_filter = []\n",
    "for el in target:\n",
    "    if el == 0:\n",
    "        c1_filter += [False]\n",
    "        c0_filter += [True]\n",
    "    else:\n",
    "        c1_filter += [True]\n",
    "        c0_filter += [False]"
   ]
  },
  {
   "cell_type": "code",
   "execution_count": 4,
   "id": "7e05b098-a401-413f-b255-0a281e651d78",
   "metadata": {},
   "outputs": [],
   "source": [
    "p_c0 = np.count_nonzero(target == 0)/target.size\n",
    "p_c1 = 1 - p_c0"
   ]
  },
  {
   "cell_type": "code",
   "execution_count": 5,
   "id": "b222d2f6-2bec-4b77-a713-a8ff0b3633db",
   "metadata": {},
   "outputs": [
    {
     "name": "stdout",
     "output_type": "stream",
     "text": [
      "c = 0  mean  0.24999999999999997  std  0.23804761428476162\n",
      "c = 1  mean  0.049999999999999996  std  0.28809720581775866\n"
     ]
    }
   ],
   "source": [
    "y1_c0_data = data[:, 0][c0_filter]\n",
    "y1_c0_mean = y1_c0_data.mean()\n",
    "y1_c0_std = y1_c0_data.std(ddof=1)\n",
    "y1_c1_data = data[:, 0][c1_filter]\n",
    "y1_c1_mean = y1_c1_data.mean()\n",
    "y1_c1_std = y1_c1_data.std(ddof=1)\n",
    "print(\"c = 0 \", \"mean \", y1_c0_mean, \" std \", y1_c0_std)\n",
    "print(\"c = 1 \", \"mean \", y1_c1_mean, \" std \", y1_c1_std)"
   ]
  },
  {
   "cell_type": "code",
   "execution_count": 6,
   "id": "2653d58b-9acf-4666-ae90-a8636bbc3f8e",
   "metadata": {},
   "outputs": [],
   "source": [
    "y2_c0_data = data[:, 1][c0_filter]\n",
    "y2_c1_data = data[:, 1][c1_filter]\n",
    "p_A_c0 = np.count_nonzero(y2_c0_data == 0)/y2_c0_data.size\n",
    "p_A_c1 = np.count_nonzero(y2_c1_data == 0)/y2_c1_data.size\n",
    "p_B_c0 = np.count_nonzero(y2_c0_data == 1)/y2_c0_data.size\n",
    "p_B_c1 = np.count_nonzero(y2_c1_data == 1)/y2_c1_data.size\n",
    "p_C_c0 = np.count_nonzero(y2_c0_data == 2)/y2_c0_data.size\n",
    "p_C_c1 = np.count_nonzero(y2_c1_data == 2)/y2_c1_data.size\n",
    "p_y2_table = np.array([\n",
    "    [p_A_c0, p_A_c1],\n",
    "    [p_B_c0, p_B_c1],\n",
    "    [p_C_c0, p_C_c1]\n",
    "])  "
   ]
  },
  {
   "cell_type": "code",
   "execution_count": 7,
   "id": "b100fe7b-8de1-439b-aba3-e80e29d05a1c",
   "metadata": {},
   "outputs": [
    {
     "name": "stdout",
     "output_type": "stream",
     "text": [
      "c = 0  mean  [0.2  0.25] \n",
      " Covariance Matrix \n",
      " [[0.18 0.18]\n",
      " [0.18 0.25]] \n",
      " Inverse \n",
      " [[ 19.84 -14.29]\n",
      " [-14.29  14.29]]\n",
      "c = 1  mean  [0.117 0.083] \n",
      " Covariance Matrix \n",
      " [[0.11  0.122]\n",
      " [0.122 0.214]] \n",
      " Inverse \n",
      " [[ 24.72 -14.09]\n",
      " [-14.09  12.71]]\n"
     ]
    }
   ],
   "source": [
    "cov_matrix_y34_c0 = np.cov(data[:,2:4][c0_filter].T)\n",
    "inv_cov_matrix_y34_c0 = np.round(np.linalg.inv(cov_matrix_y34_c0), decimals=2)\n",
    "y34_c0_mean = (data[:,2:4][c0_filter]).mean(axis=0)\n",
    "\n",
    "cov_matrix_y34_c1 = np.round(np.cov(data[:,2:4][c1_filter].T), decimals=3)\n",
    "inv_cov_matrix_y34_c1 = np.round(np.linalg.inv(cov_matrix_y34_c1),decimals=2)\n",
    "y34_c1_mean = np.round(data[:,2:4][c1_filter].mean(axis=0), decimals=3)\n",
    "\n",
    "print(\"c = 0 \", \"mean \", y34_c0_mean, \"\\n Covariance Matrix \\n\", cov_matrix_y34_c0, \"\\n Inverse \\n\", inv_cov_matrix_y34_c0)\n",
    "print(\"c = 1 \", \"mean \", y34_c1_mean, \"\\n Covariance Matrix \\n\", cov_matrix_y34_c1, \"\\n Inverse \\n\", inv_cov_matrix_y34_c1)"
   ]
  },
  {
   "cell_type": "code",
   "execution_count": 44,
   "id": "19e35f37-f465-4cf4-8838-8408f3e613cb",
   "metadata": {},
   "outputs": [],
   "source": [
    "def predictClass(x_new, treshold, c1_values):\n",
    "    p_c0_xnew1 = np.round(norm.pdf(x_new[0], y1_c0_mean, y1_c0_std), decimals=5)\n",
    "    p_c1_xnew1 = np.round(norm.pdf(x_new[0], y1_c1_mean, y1_c1_std), decimals=5)\n",
    "    p_c0_xnew34 = np.round(multivariate_normal.pdf(x_new[2:], mean=y34_c0_mean, cov=inv_cov_matrix_y34_c0), decimals=5)\n",
    "    p_c1_xnew34 = np.round(multivariate_normal.pdf(x_new[2:], mean=y34_c1_mean, cov=inv_cov_matrix_y34_c1), decimals=5)\n",
    "    p_c0_xnew = p_c0_xnew1*p_y2_table[int(x_new[1])][0]*p_c0_xnew34*p_c0\n",
    "    p_c1_xnew = p_c1_xnew1*p_y2_table[int(x_new[1])][1]*p_c1_xnew34*p_c1\n",
    "    c1_percent = p_c1_xnew/(p_c1_xnew+p_c0_xnew)*100\n",
    "    c1_values.append(c1_percent)\n",
    "    #print(p_c0_xnew1, p_y2_table[int(x_new[1])][0], np.round(p_c0_xnew34,decimals=5))\n",
    "    #print(\"p(y_1=\",x_new[0],\"| c=0)=\",p_c0_xnew1,\"   p(y_2=\",x_new[1],\"| c=0)=\", 0,\"   p(y_3=\",x_new[2],\", y_4=\",x_new[3],\"| c=0)=\",p_c0_xnew34) \n",
    "    #print(\"p(y_1=\",x_new[0],\"| c=1)=\",p_c1_xnew1,\"   p(y_2=\",x_new[1],\"| c=1)=\", 0,\"   p(y_3=\",x_new[2],\", y_4=\",x_new[3],\"| c=1)=\",p_c1_xnew34) \n",
    "    #print(np.round(p_c0_xnew, decimals=5), np.round(p_c1_xnew,decimals=5))\n",
    "    #print(np.round(c1_percent, decimals=1))\n",
    "    \n",
    "    if c1_percent > treshold:\n",
    "        return 1\n",
    "    else: \n",
    "        return 0\n",
    "\n",
    "def F1_score(confusion_matrix):\n",
    "    precision = confusion_matrix[0][0]/np.sum(confusion_matrix[0,:])\n",
    "    recall = confusion_matrix[0][0]/np.sum(confusion_matrix[:,0])\n",
    "    return 2*1/(1/precision+1/recall)"
   ]
  },
  {
   "cell_type": "code",
   "execution_count": 52,
   "id": "4e7b4257-dfd9-40c0-96c1-692bbc15da43",
   "metadata": {},
   "outputs": [],
   "source": [
    "\n",
    "treshold = 15\n",
    "def NB(treshold):\n",
    "    number_tests = 0\n",
    "    correct_tests = 0\n",
    "    confusion_matrix = np.array([[0,0],[0,0]])\n",
    "    c1_values= []\n",
    "    for i in range(len(data)):\n",
    "        number_tests += 1\n",
    "        if predictClass(data[i], treshold, c1_values) == target[i]:\n",
    "            correct_tests += 1\n",
    "            if target[i] == 0: confusion_matrix[1][1] += 1\n",
    "            else: confusion_matrix[0][0] += 1\n",
    "            #print(\"Correct!\", target[i])\n",
    "            continue\n",
    "        if target[i] == 0: confusion_matrix[0][1] += 1\n",
    "        else: confusion_matrix[1][0] += 1\n",
    "        #print(\"Wrong!\", (target[i]+1)%2 ,\"and answer is\", target[i])\n",
    "    accuracy = correct_tests/number_tests*100\n",
    "    #print(accuracy, \"%\")\n",
    "    #print(confusion_matrix)\n",
    "    #print(F1_score(confusion_matrix))\n",
    "    c1_values = sorted(c1_values)\n",
    "    return accuracy, c1_values\n",
    "    \n",
    "c1_values = NB(10)[1]"
   ]
  },
  {
   "cell_type": "code",
   "execution_count": 73,
   "id": "a47635be-6a85-43ca-acf6-ad83b75e1261",
   "metadata": {},
   "outputs": [
    {
     "name": "stdout",
     "output_type": "stream",
     "text": [
      "c1_v  [13.88 18.33 23.58 48.87 54.54 63.48 70.92 84.34 89.27 93.46]\n",
      "value [13, 18, 23, 48, 54, 63, 70, 84, 89, 93, 99]\n",
      "acc   [60, 70, 60, 70, 60, 50, 60, 70, 60, 50, 40]\n"
     ]
    }
   ],
   "source": [
    "import math\n",
    "x_c1_values = []\n",
    "y_c1_values = []\n",
    "for el in c1_values:\n",
    "    x_c1_values.append(math.floor(el))\n",
    "x_c1_values.append(99)\n",
    "for el in x_c1_values:\n",
    "    y_c1_values.append(int(NB(el)[0]))\n",
    "print(\"c1_v \", np.round(c1_values,decimals=2))\n",
    "print(\"value\", x_c1_values)\n",
    "print(\"acc  \", y_c1_values)"
   ]
  },
  {
   "cell_type": "code",
   "execution_count": null,
   "id": "136aa667-10f9-4430-8667-bf569893a469",
   "metadata": {},
   "outputs": [],
   "source": []
  }
 ],
 "metadata": {
  "kernelspec": {
   "display_name": "Python 3 (ipykernel)",
   "language": "python",
   "name": "python3"
  },
  "language_info": {
   "codemirror_mode": {
    "name": "ipython",
    "version": 3
   },
   "file_extension": ".py",
   "mimetype": "text/x-python",
   "name": "python",
   "nbconvert_exporter": "python",
   "pygments_lexer": "ipython3",
   "version": "3.8.10"
  }
 },
 "nbformat": 4,
 "nbformat_minor": 5
}
