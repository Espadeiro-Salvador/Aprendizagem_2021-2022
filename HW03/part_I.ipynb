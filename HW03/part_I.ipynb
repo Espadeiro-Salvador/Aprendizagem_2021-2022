{
 "cells": [
  {
   "cell_type": "code",
   "execution_count": 34,
   "metadata": {},
   "outputs": [
    {
     "name": "stdout",
     "output_type": "stream",
     "text": [
      "[[1. 1. 1. 1. 1.]\n",
      " [0. 0. 0. 0. 0.]\n",
      " [1. 1. 1. 1. 1.]]\n",
      "[[1.]\n",
      " [1.]\n",
      " [1.]]\n",
      "[[1. 1. 1.]\n",
      " [1. 1. 1.]]\n",
      "[[1.]\n",
      " [1.]]\n",
      "[[ 0.09989197  0.09989197]\n",
      " [-0.09989197 -0.09989197]]\n",
      "[[ 0.1]\n",
      " [-0.1]]\n"
     ]
    }
   ],
   "source": [
    "import numpy as np\n",
    "\n",
    "MLP = (5,3,2,2)\n",
    "x0 = np.matrix('1; 1; 1; 1; 1')\n",
    "t = np.matrix('1; -1')\n",
    "learning_rate = 0.1\n",
    "\n",
    "# Initialize weights\n",
    "W1 = np.matrix([[1,1,1,1,1],[0,0,0,0,0],[1,1,1,1,1]])\n",
    "W2 = np.matrix([[1,1,1],[1,1,1]])\n",
    "W3 = np.matrix([[0,0],[0,0]])\n",
    "\n",
    "# Initialize biases\n",
    "b1 = np.matrix('1; 1; 1')\n",
    "b2 = np.matrix('1; 1')\n",
    "b3 = np.matrix('0; 0')\n",
    "\n",
    "# Forward Propagation\n",
    "z1 = np.add(np.matmul(W1, x0), b1)\n",
    "x1 = np.tanh(z1)\n",
    "\n",
    "z2 = np.add(np.matmul(W2, x1), b2)\n",
    "x2 = np.tanh(z2)\n",
    "\n",
    "z3 = np.add(np.matmul(W3, x2), b3)\n",
    "x3 = np.tanh(z3)\n",
    "\n",
    "# Calculate deltas\n",
    "d3 = np.multiply(x3 - t, 1 - np.square(np.tanh(z3)))\n",
    "d2 = np.multiply(np.matmul(W3.T, d3), (1 - np.square(np.tanh(z2))))\n",
    "d1 = np.multiply(np.matmul(W2.T, d2), (1 - np.square(np.tanh(z1))))\n",
    "\n",
    "# Calculate new weights and biases\n",
    "dE_dW1 = np.matmul(d1, x0.T)\n",
    "W1_new = W1 - learning_rate * dE_dW1\n",
    "dE_db1 = d1\n",
    "b1_new = b1 - learning_rate * dE_db1\n",
    "\n",
    "dE_dW2 = np.matmul(d2, x1.T)\n",
    "W2_new = W2 - learning_rate * dE_dW2\n",
    "dE_db2 = d2\n",
    "b2_new = b2 - learning_rate * dE_db2\n",
    "\n",
    "dE_dW3 = np.matmul(d3, x2.T)\n",
    "W3_new = W3 - learning_rate * dE_dW3\n",
    "dE_db3 = d3\n",
    "b3_new = b3 - learning_rate * dE_db3\n",
    "\n",
    "# Prints\n",
    "print(W1_new)\n",
    "print(b1_new)\n",
    "\n",
    "print(W2_new)\n",
    "print(b2_new)\n",
    "\n",
    "print(W3_new)\n",
    "print(b3_new)"
   ]
  }
 ],
 "metadata": {
  "interpreter": {
   "hash": "aee8b7b246df8f9039afb4144a1f6fd8d2ca17a180786b69acc140d282b71a49"
  },
  "kernelspec": {
   "display_name": "Python 3",
   "language": "python",
   "name": "python3"
  },
  "language_info": {
   "codemirror_mode": {
    "name": "ipython",
    "version": 3
   },
   "file_extension": ".py",
   "mimetype": "text/x-python",
   "name": "python",
   "nbconvert_exporter": "python",
   "pygments_lexer": "ipython3",
   "version": "3.9.7"
  }
 },
 "nbformat": 4,
 "nbformat_minor": 4
}
