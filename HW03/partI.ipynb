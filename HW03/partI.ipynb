{
 "cells": [
  {
   "cell_type": "code",
   "execution_count": 9,
   "metadata": {},
   "outputs": [],
   "source": [
    "import numpy as np\n",
    "\n",
    "MLP = [5,3,2,2]\n",
    "W = []\n",
    "b = []\n",
    "t = np.array([1,-1])\n",
    "x = []\n",
    "z = []\n",
    "d = []\n",
    "W.append(np.array([[1,1,1,1,1],[0,0,0,0,0],[1,1,1,1,1]]))\n",
    "W.append(np.array([[1,1,1],[1,1,1]]))\n",
    "W.append(np.array([[0,0],[0,0]]))\n",
    "b.append(np.array([1,1,1]).T)\n",
    "b.append(np.array([1,1]).T)\n",
    "b.append(np.array([0,0]).T)\n",
    "x.append(np.array([1,1,1,1,1]))\n",
    "z.append(np.add(np.matmul(W[0],x[0]),b[0]))\n",
    "x.append(np.tanh(z[0]))\n",
    "z.append(np.add(np.matmul(W[1],x[1]),b[1]))\n",
    "x.append(np.tanh(z[1]))\n",
    "z.append(np.add(np.matmul(W[2],x[2]),b[2]))\n",
    "x.append(np.tanh(z[2]))\n",
    "d = [np.multiply(np.multiply((x[3]-t),np.tanh(z[2])),(1-np.tanh(z[2])))] + d\n",
    "d = [np.multiply(np.multiply(np.matmul(W[2].T,d[0]),np.tanh(z[1])),(1-np.tanh(z[1])))] + d\n",
    "d = [np.multiply(np.multiply(np.matmul(W[1].T,d[0]),np.tanh(z[0])),(1-np.tanh(z[0])))] + d"
   ]
  }
 ],
 "metadata": {
  "interpreter": {
   "hash": "31f2aee4e71d21fbe5cf8b01ff0e069b9275f58929596ceb00d14d90e3e16cd6"
  },
  "kernelspec": {
   "display_name": "Python 3.8.10 64-bit",
   "name": "python3"
  },
  "language_info": {
   "codemirror_mode": {
    "name": "ipython",
    "version": 3
   },
   "file_extension": ".py",
   "mimetype": "text/x-python",
   "name": "python",
   "nbconvert_exporter": "python",
   "pygments_lexer": "ipython3",
   "version": "3.8.10"
  },
  "orig_nbformat": 4
 },
 "nbformat": 4,
 "nbformat_minor": 2
}
