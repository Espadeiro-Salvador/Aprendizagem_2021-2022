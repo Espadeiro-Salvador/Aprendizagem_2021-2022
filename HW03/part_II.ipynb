{
 "cells": [
  {
   "cell_type": "markdown",
   "metadata": {},
   "source": [
    "## MLP Classifier"
   ]
  },
  {
   "cell_type": "code",
   "execution_count": 1,
   "metadata": {},
   "outputs": [],
   "source": [
    "import pandas as pd\n",
    "from scipy.io import arff\n",
    "\n",
    "data = arff.loadarff('breast.w.arff')\n",
    "df = pd.DataFrame(data[0])\n",
    "df.dropna(inplace=True)\n",
    "df.replace(b'benign', 0, inplace=True)\n",
    "df.replace(b'malignant', 1, inplace=True)\n",
    "\n",
    "data = df.drop([\"Class\"],axis=1).values\n",
    "target = df[\"Class\"].values"
   ]
  },
  {
   "cell_type": "code",
   "execution_count": 2,
   "metadata": {},
   "outputs": [
    {
     "name": "stderr",
     "output_type": "stream",
     "text": [
      "/home/guilherme/.local/lib/python3.8/site-packages/sklearn/neural_network/_multilayer_perceptron.py:692: ConvergenceWarning: Stochastic Optimizer: Maximum iterations (200) reached and the optimization hasn't converged yet.\n",
      "  warnings.warn(\n",
      "/home/guilherme/.local/lib/python3.8/site-packages/sklearn/neural_network/_multilayer_perceptron.py:692: ConvergenceWarning: Stochastic Optimizer: Maximum iterations (200) reached and the optimization hasn't converged yet.\n",
      "  warnings.warn(\n",
      "/home/guilherme/.local/lib/python3.8/site-packages/sklearn/neural_network/_multilayer_perceptron.py:692: ConvergenceWarning: Stochastic Optimizer: Maximum iterations (200) reached and the optimization hasn't converged yet.\n",
      "  warnings.warn(\n",
      "/home/guilherme/.local/lib/python3.8/site-packages/sklearn/neural_network/_multilayer_perceptron.py:692: ConvergenceWarning: Stochastic Optimizer: Maximum iterations (200) reached and the optimization hasn't converged yet.\n",
      "  warnings.warn(\n"
     ]
    },
    {
     "name": "stdout",
     "output_type": "stream",
     "text": [
      "[[426  18]\n",
      " [ 11 228]]\n",
      "[[384  60]\n",
      " [  1 238]]\n"
     ]
    },
    {
     "name": "stderr",
     "output_type": "stream",
     "text": [
      "/home/guilherme/.local/lib/python3.8/site-packages/sklearn/neural_network/_multilayer_perceptron.py:692: ConvergenceWarning: Stochastic Optimizer: Maximum iterations (200) reached and the optimization hasn't converged yet.\n",
      "  warnings.warn(\n"
     ]
    }
   ],
   "source": [
    "import numpy as np\n",
    "from sklearn.neural_network import MLPClassifier\n",
    "from sklearn import model_selection\n",
    "from sklearn.metrics import confusion_matrix\n",
    "\n",
    "fold = model_selection.KFold(n_splits=5, shuffle=True, random_state=0)\n",
    "conf_matrix1 = np.matrix([[0,0],[0,0]])\n",
    "conf_matrix2 = np.matrix([[0,0],[0,0]])\n",
    "for train_filter, test_filter in fold.split(data):\n",
    "    data_train, data_test, target_train, target_test = data[train_filter], data[test_filter], target[train_filter], target[test_filter]\n",
    "    mlp1 = MLPClassifier(hidden_layer_sizes=[3,2],alpha=10,shuffle=True,random_state=0).fit(data_train, target_train)\n",
    "    mlp2 = MLPClassifier(hidden_layer_sizes=[3,2],alpha=10,shuffle=True,random_state=0,early_stopping=True).fit(data_train, target_train)\n",
    "    conf_matrix1 = conf_matrix1 + confusion_matrix(target_test, mlp1.predict(data_test))\n",
    "    conf_matrix2 = conf_matrix2 + confusion_matrix(target_test, mlp2.predict(data_test))\n",
    "print(conf_matrix1)\n",
    "print(conf_matrix2)"
   ]
  },
  {
   "cell_type": "markdown",
   "metadata": {},
   "source": [
    "## MLP Regressor"
   ]
  },
  {
   "cell_type": "code",
   "execution_count": 3,
   "metadata": {},
   "outputs": [],
   "source": [
    "import pandas as pd\n",
    "from scipy.io import arff\n",
    "\n",
    "data = arff.loadarff('kin8nm.arff')\n",
    "df = pd.DataFrame(data[0])\n",
    "df.dropna(inplace=True)\n",
    "\n",
    "data = df.drop([\"y\"],axis=1).values\n",
    "target = df[\"y\"].values"
   ]
  },
  {
   "cell_type": "code",
   "execution_count": 4,
   "metadata": {},
   "outputs": [
    {
     "data": {
      "image/png": "[encoded data removed]",
      "text/plain": [
       "<Figure size 432x288 with 1 Axes>"
      ]
     },
     "metadata": {
      "needs_background": "light"
     },
     "output_type": "display_data"
    }
   ],
   "source": [
    "import numpy as np\n",
    "from sklearn.neural_network import MLPRegressor, MLPClassifier\n",
    "from sklearn import model_selection\n",
    "import seaborn as sns\n",
    "\n",
    "fold = model_selection.KFold(n_splits=5, shuffle=True, random_state=0)\n",
    "residuals1, residuals2 = [], []\n",
    "for train_filter, test_filter in fold.split(data):\n",
    "    data_train, data_test, target_train, target_test = data[train_filter], data[test_filter], target[train_filter], target[test_filter]\n",
    "    mlp1 = MLPRegressor(hidden_layer_sizes=[3,2],alpha=0,shuffle=True,random_state=0).fit(data_train, target_train)\n",
    "    mlp2 = MLPRegressor(hidden_layer_sizes=[3,2],alpha=0.1,shuffle=True,random_state=0).fit(data_train, target_train)\n",
    "    residuals1 += list(mlp1.predict(data_test) - target_test)\n",
    "    residuals2 += list(mlp2.predict(data_test) - target_test)\n",
    "df = pd.DataFrame(data={\"Non regularized\": residuals1, \"Regularized\": residuals2})\n",
    "ax = sns.boxplot(data=df)"
   ]
  }
 ],
 "metadata": {
  "interpreter": {
   "hash": "31f2aee4e71d21fbe5cf8b01ff0e069b9275f58929596ceb00d14d90e3e16cd6"
  },
  "kernelspec": {
   "display_name": "Python 3.8.10 64-bit",
   "name": "python3"
  },
  "language_info": {
   "codemirror_mode": {
    "name": "ipython",
    "version": 3
   },
   "file_extension": ".py",
   "mimetype": "text/x-python",
   "name": "python",
   "nbconvert_exporter": "python",
   "pygments_lexer": "ipython3",
   "version": "3.8.10"
  }
 },
 "nbformat": 4,
 "nbformat_minor": 4
}
