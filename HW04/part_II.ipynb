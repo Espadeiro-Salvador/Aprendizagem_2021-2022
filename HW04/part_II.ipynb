{
 "cells": [
  {
   "cell_type": "code",
   "execution_count": 89,
   "metadata": {},
   "outputs": [],
   "source": [
    "import pandas as pd\n",
    "from scipy.io import arff\n",
    "\n",
    "data = arff.loadarff('breast.w.arff')\n",
    "df = pd.DataFrame(data[0])\n",
    "df.dropna(inplace=True)\n",
    "df.replace(b'benign', 0, inplace=True)\n",
    "df.replace(b'malignant', 1, inplace=True)\n",
    "\n",
    "data = df.drop([\"Class\"],axis=1).values\n",
    "target = df[\"Class\"].values"
   ]
  },
  {
   "cell_type": "code",
   "execution_count": 90,
   "metadata": {},
   "outputs": [
    {
     "name": "stdout",
     "output_type": "stream",
     "text": [
      "2 Clusters\n",
      "   ECR          13.5\n",
      "   Silhouette   0.5967981179111456\n",
      "3 Clusters\n",
      "   ECR          6.666666666666667\n",
      "   Silhouette   0.5256774849851862\n"
     ]
    }
   ],
   "source": [
    "from sklearn import cluster\n",
    "from sklearn.metrics import silhouette_score\n",
    "import numpy as np\n",
    "\n",
    "def ECR(labels, target, k):\n",
    "    c_counts = []\n",
    "    for i in range(k):\n",
    "        ci_filter = []\n",
    "        for j in range(len(labels)):\n",
    "            ci_filter.append(labels[j]==i)\n",
    "        c_counts.append(min(np.bincount(target[ci_filter])))\n",
    "    error = 0\n",
    "    for el in c_counts:\n",
    "        error += el\n",
    "    return error/k\n",
    "\n",
    "for k in (2,3):\n",
    "    cl = cluster.KMeans(n_clusters=k)\n",
    "    predictions = cl.fit_predict(data)\n",
    "    print(k, \"Clusters\")\n",
    "    print(\"   ECR         \",ECR(predictions,target,k))\n",
    "    print(\"   Silhouette  \", silhouette_score(data,predictions))"
   ]
  },
  {
   "cell_type": "code",
   "execution_count": 91,
   "metadata": {},
   "outputs": [
    {
     "data": {
      "text/plain": [
       "<matplotlib.collections.PathCollection at 0x7fc74f1eaac0>"
      ]
     },
     "execution_count": 91,
     "metadata": {},
     "output_type": "execute_result"
    },
    {
     "data": {
      "image/png": "[encoded data removed]",
      "text/plain": [
       "<Figure size 432x288 with 1 Axes>"
      ]
     },
     "metadata": {
      "needs_background": "light"
     },
     "output_type": "display_data"
    }
   ],
   "source": [
    "from sklearn.feature_selection import SelectKBest, mutual_info_classif\n",
    "import matplotlib.pyplot as plt\n",
    "data_selected = SelectKBest(mutual_info_classif, k=2).fit_transform(data, target)\n",
    "cl = cluster.KMeans(n_clusters=3)\n",
    "pred = cl.fit_predict(data_selected)\n",
    "clusters = [[],[]], [[],[]], [[],[]]\n",
    "for i in range(len(data_selected)):\n",
    "    clusters[pred[i]][0].append(data_selected[i].item(0))\n",
    "    clusters[pred[i]][1].append(data_selected[i].item(1))\n",
    "\n",
    "plt.scatter(clusters[0][0],clusters[0][1])\n",
    "plt.scatter(clusters[1][0],clusters[1][1])\n",
    "plt.scatter(clusters[2][0],clusters[2][1])\n",
    "plt.scatter(cl.cluster_centers_[:,0],cl.cluster_centers_[:,1],marker=\"*\")\n"
   ]
  }
 ],
 "metadata": {
  "interpreter": {
   "hash": "31f2aee4e71d21fbe5cf8b01ff0e069b9275f58929596ceb00d14d90e3e16cd6"
  },
  "kernelspec": {
   "display_name": "Python 3.8.10 64-bit",
   "language": "python",
   "name": "python3"
  },
  "language_info": {
   "codemirror_mode": {
    "name": "ipython",
    "version": 3
   },
   "file_extension": ".py",
   "mimetype": "text/x-python",
   "name": "python",
   "nbconvert_exporter": "python",
   "pygments_lexer": "ipython3",
   "version": "3.8.10"
  },
  "orig_nbformat": 4
 },
 "nbformat": 4,
 "nbformat_minor": 2
}
