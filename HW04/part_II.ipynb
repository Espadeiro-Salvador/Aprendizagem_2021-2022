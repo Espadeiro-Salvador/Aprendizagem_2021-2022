{
 "cells": [
  {
   "cell_type": "code",
   "execution_count": 2,
   "metadata": {},
   "outputs": [],
   "source": [
    "import pandas as pd\n",
    "from scipy.io import arff\n",
    "\n",
    "data = arff.loadarff('breast.w.arff')\n",
    "df = pd.DataFrame(data[0])\n",
    "df.dropna(inplace=True)\n",
    "df.replace(b'benign', 0, inplace=True)\n",
    "df.replace(b'malignant', 1, inplace=True)\n",
    "\n",
    "data = df.drop([\"Class\"],axis=1).values\n",
    "target = df[\"Class\"].values"
   ]
  },
  {
   "cell_type": "code",
   "execution_count": 7,
   "metadata": {},
   "outputs": [
    {
     "name": "stdout",
     "output_type": "stream",
     "text": [
      "0.5967981179111456\n",
      "[0 1 0 1 0 1 0 0 0 0 0 0 0 0 1 0 0 0 1 0 1 1 0 0 0 0 0 0 0 0 0 1 0 0 0 1 0\n",
      " 1 1 1 1 1 1 0 1 0 0 1 0 0 1 1 1 1 1 0 1 0 1 0 1 0 0 0 0 1 1 0 0 1 0 1 1 0\n",
      " 0 0 0 0 0 0 0 0 1 1 1 1 0 0 0 0 0 0 0 0 0 0 1 1 1 0 0 0 1 0 1 1 0 1 0 1 1\n",
      " 1 0 0 0 1 0 0 0 0 1 1 1 0 1 0 1 0 0 0 1 0 0 0 0 0 0 0 0 1 0 0 1 0 0 1 0 1\n",
      " 1 0 0 1 0 0 1 1 0 0 0 0 1 1 0 0 0 0 0 1 1 1 0 1 0 1 0 0 0 1 1 0 1 1 1 0 1\n",
      " 1 0 0 0 0 1 0 0 0 1 1 0 0 0 1 1 0 0 0 1 1 0 1 1 1 0 0 1 0 0 1 0 1 1 0 1 1\n",
      " 0 1 1 1 0 1 0 1 1 1 1 0 0 0 0 0 0 1 1 0 0 1 1 1 1 1 0 0 0 1 1 1 1 1 1 0 1\n",
      " 1 1 0 1 0 1 0 0 0 0 0 1 0 0 1 1 1 1 1 0 1 1 0 0 1 1 1 0 1 1 0 1 0 1 1 0 0\n",
      " 1 0 0 0 1 0 0 1 1 0 1 1 0 1 0 0 1 0 1 1 1 0 0 1 1 0 1 0 0 1 1 0 0 0 1 0 0\n",
      " 0 0 1 0 0 1 1 0 0 0 1 1 1 1 1 0 0 0 0 1 1 0 0 0 0 0 0 0 0 0 0 0 0 0 1 0 0\n",
      " 0 0 1 0 0 0 0 1 0 0 0 0 0 0 0 0 1 0 0 0 0 0 0 0 0 0 0 1 0 1 0 1 0 0 0 0 1\n",
      " 0 0 0 1 0 1 0 0 0 0 0 0 1 1 1 0 0 0 1 0 0 0 0 0 0 0 0 1 0 0 0 1 0 0 1 1 0\n",
      " 0 0 0 0 0 0 1 1 1 0 0 0 0 0 0 0 0 0 0 0 1 0 0 1 1 0 0 0 1 1 0 0 1 0 1 0 0\n",
      " 0 0 0 0 0 0 0 0 0 0 1 0 0 0 0 0 0 0 1 1 0 0 0 1 0 0 1 1 0 0 0 0 0 0 1 0 0\n",
      " 0 0 0 0 0 0 0 0 0 0 0 0 0 1 0 0 1 0 0 0 0 0 0 0 0 0 0 0 0 0 0 0 1 0 0 1 1\n",
      " 1 1 0 0 1 0 0 0 0 0 0 1 1 0 0 0 1 0 1 0 1 1 1 0 1 0 0 0 0 0 0 0 0 1 1 1 0\n",
      " 0 1 0 1 1 1 0 0 0 0 0 0 0 0 0 0 0 0 1 0 0 0 0 0 0 1 0 0 1 0 0 0 0 0 0 0 0\n",
      " 0 0 0 1 0 0 0 0 0 0 0 0 0 1 0 0 0 0 0 0 0 0 0 1 1 1 0 0 0 0 0 0 0 0 0 1 1\n",
      " 0 0 0 0 0 0 0 0 0 1 0 0 0 0 1 1 1]\n",
      "0.5256774849851862\n",
      "[1 2 1 2 1 0 1 1 1 1 1 1 1 1 0 2 1 1 2 1 2 2 1 1 2 1 1 1 1 1 1 0 1 1 1 0 1\n",
      " 2 2 2 0 2 0 1 2 1 1 2 2 1 2 0 2 2 0 1 2 2 2 1 0 2 1 2 1 2 0 1 1 0 1 2 2 1\n",
      " 1 1 1 1 1 1 1 1 0 0 2 0 1 1 1 1 1 1 1 1 1 1 0 0 2 1 1 2 0 2 2 0 1 2 1 2 2\n",
      " 0 1 1 1 0 1 1 1 1 0 2 0 1 2 1 2 1 1 1 0 1 1 1 1 1 1 1 1 2 1 1 2 1 1 0 1 2\n",
      " 0 1 1 2 1 1 0 2 1 1 1 1 0 0 1 1 1 1 1 0 2 0 1 0 1 2 1 1 1 0 2 1 0 0 0 1 0\n",
      " 0 1 1 1 1 2 1 1 1 0 2 1 1 1 0 0 1 1 1 0 0 1 0 0 0 1 1 0 1 1 0 1 2 2 1 2 0\n",
      " 1 0 2 0 2 2 1 0 0 0 2 1 1 1 1 1 1 0 2 1 1 2 2 0 0 2 1 1 1 2 2 0 0 2 0 1 2\n",
      " 2 0 1 2 1 2 1 1 1 1 1 2 1 1 2 2 2 0 0 1 2 0 1 1 2 2 2 1 2 0 1 0 1 2 2 1 1\n",
      " 0 1 1 1 0 1 1 2 0 1 2 2 1 2 1 1 2 1 0 2 2 1 1 2 2 1 2 1 1 2 2 1 1 1 0 1 1\n",
      " 1 1 2 1 1 2 0 1 1 1 0 0 2 0 2 1 1 1 1 0 0 1 1 1 1 1 1 1 1 1 1 1 1 1 2 1 1\n",
      " 1 1 2 1 1 1 1 0 1 1 1 1 1 1 1 1 0 1 1 1 1 1 1 1 1 1 1 0 1 2 1 2 1 1 1 1 0\n",
      " 1 1 1 0 1 0 1 1 1 1 1 1 2 2 0 1 1 1 2 1 1 1 1 1 1 1 1 0 1 1 1 0 1 2 2 0 1\n",
      " 1 1 1 1 1 1 0 2 2 1 1 1 1 1 1 1 1 1 1 1 0 1 1 0 0 1 1 1 0 2 1 1 2 1 0 2 1\n",
      " 1 1 1 1 1 1 1 1 1 1 0 1 1 1 1 1 1 1 0 0 1 1 1 2 1 1 2 2 1 1 1 1 1 1 2 1 1\n",
      " 1 1 1 1 1 1 1 1 1 1 1 1 1 0 1 1 0 1 1 1 1 1 1 1 1 1 1 1 1 1 1 1 0 1 1 2 0\n",
      " 2 0 1 1 0 1 1 1 1 1 1 0 0 1 1 1 0 1 2 1 0 2 2 1 2 1 1 1 1 1 1 1 1 0 2 0 1\n",
      " 1 0 1 2 0 0 1 1 1 1 1 1 1 1 1 1 1 1 0 1 1 1 1 1 1 0 1 1 0 1 1 1 1 1 1 1 1\n",
      " 1 1 1 0 1 1 1 1 1 1 1 1 1 2 1 1 1 1 1 1 1 1 1 0 0 0 1 1 1 1 1 1 1 1 1 0 0\n",
      " 1 1 1 1 1 1 1 1 1 0 1 1 1 1 0 0 0]\n"
     ]
    }
   ],
   "source": [
    "from sklearn import cluster\n",
    "from sklearn.metrics import silhouette_score\n",
    "for k in (2,3):\n",
    "    cl = cluster.KMeans(n_clusters=k)\n",
    "    predictions = cl.fit_predict(data)\n",
    "    #print(\"ECR\")\n",
    "    print(silhouette_score(data,predictions))"
   ]
  },
  {
   "cell_type": "code",
   "execution_count": null,
   "metadata": {},
   "outputs": [],
   "source": []
  }
 ],
 "metadata": {
  "interpreter": {
   "hash": "31f2aee4e71d21fbe5cf8b01ff0e069b9275f58929596ceb00d14d90e3e16cd6"
  },
  "kernelspec": {
   "display_name": "Python 3.8.10 64-bit",
   "language": "python",
   "name": "python3"
  },
  "language_info": {
   "codemirror_mode": {
    "name": "ipython",
    "version": 3
   },
   "file_extension": ".py",
   "mimetype": "text/x-python",
   "name": "python",
   "nbconvert_exporter": "python",
   "pygments_lexer": "ipython3",
   "version": "3.8.10"
  },
  "orig_nbformat": 4
 },
 "nbformat": 4,
 "nbformat_minor": 2
}
