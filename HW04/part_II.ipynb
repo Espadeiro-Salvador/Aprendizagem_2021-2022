{
 "cells": [
  {
   "cell_type": "code",
   "execution_count": 19,
   "metadata": {},
   "outputs": [],
   "source": [
    "import pandas as pd\n",
    "from scipy.io import arff\n",
    "\n",
    "data = arff.loadarff('breast.w.arff')\n",
    "df = pd.DataFrame(data[0])\n",
    "df.dropna(inplace=True)\n",
    "df.replace(b'benign', 0, inplace=True)\n",
    "df.replace(b'malignant', 1, inplace=True)\n",
    "\n",
    "data = df.drop([\"Class\"],axis=1).values\n",
    "target = df[\"Class\"].values"
   ]
  },
  {
   "cell_type": "code",
   "execution_count": 20,
   "metadata": {},
   "outputs": [
    {
     "name": "stdout",
     "output_type": "stream",
     "text": [
      "2 Clusters\n",
      "   ECR          13.5\n",
      "   Silhouette   0.5967981179111456\n",
      "3 Clusters\n",
      "   ECR          6.666666666666667\n",
      "   Silhouette   0.5245427800706391\n"
     ]
    }
   ],
   "source": [
    "from sklearn import cluster\n",
    "from sklearn.metrics import silhouette_score\n",
    "import numpy as np\n",
    "\n",
    "def ECR(labels, target, k):\n",
    "    c_counts = []\n",
    "    for i in range(k):\n",
    "        ci_filter = []\n",
    "        for j in range(len(labels)):\n",
    "            ci_filter.append(labels[j]==i)\n",
    "        c_counts.append(min(np.bincount(target[ci_filter])))\n",
    "    error = 0\n",
    "    for el in c_counts:\n",
    "        error += el\n",
    "    return error/k\n",
    "\n",
    "for k in (2,3):\n",
    "    cl = cluster.KMeans(n_clusters=k)\n",
    "    predictions = cl.fit_predict(data)\n",
    "    print(k, \"Clusters\")\n",
    "    print(\"   ECR         \", ECR(predictions,target,k))\n",
    "    print(\"   Silhouette  \", silhouette_score(data,predictions))"
   ]
  },
  {
   "cell_type": "code",
   "execution_count": 21,
   "metadata": {},
   "outputs": [
    {
     "data": {
      "text/plain": [
       "<matplotlib.legend.Legend at 0x7f4c320cbee0>"
      ]
     },
     "execution_count": 21,
     "metadata": {},
     "output_type": "execute_result"
    },
    {
     "data": {
      "image/png": "[encoded data removed]",
      "text/plain": [
       "<Figure size 432x288 with 1 Axes>"
      ]
     },
     "metadata": {
      "needs_background": "light"
     },
     "output_type": "display_data"
    }
   ],
   "source": [
    "from sklearn.feature_selection import SelectKBest, mutual_info_classif\n",
    "import matplotlib.pyplot as plt\n",
    "import matplotlib.lines as mlines\n",
    "\n",
    "data_selected = SelectKBest(mutual_info_classif, k=2).fit_transform(data, target)\n",
    "cl = cluster.KMeans(n_clusters=3)\n",
    "pred = cl.fit_predict(data_selected)\n",
    "clusters = [[[],[]],[[],[]]], [[[],[]],[[],[]]], [[[],[]],[[],[]]]\n",
    "for i in range(len(data_selected)):\n",
    "    clusters[pred[i]][target[i]][0].append(data_selected[i].item(0))\n",
    "    clusters[pred[i]][target[i]][1].append(data_selected[i].item(1))\n",
    "\n",
    "plt.scatter(clusters[0][0][0],clusters[0][0][1],marker=\"o\",s=200,alpha=0.35,color=\"none\",edgecolors=\"red\")\n",
    "plt.scatter(clusters[0][1][0],clusters[0][1][1],marker=\"+\",s=60 ,alpha=0.35,color=\"red\")\n",
    "plt.scatter(clusters[1][0][0],clusters[1][0][1],marker=\"o\",s=200,alpha=0.35,color=\"none\",edgecolors=\"blue\")\n",
    "plt.scatter(clusters[1][1][0],clusters[1][1][1],marker=\"+\",s=60 ,alpha=0.35,color=\"blue\")\n",
    "plt.scatter(clusters[2][0][0],clusters[2][0][1],marker=\"o\",s=200,alpha=0.35,color=\"none\",edgecolors=\"green\")\n",
    "plt.scatter(clusters[2][1][0],clusters[2][1][1],marker=\"+\",s=60 ,alpha=0.35,color=\"green\")\n",
    "leg1 = mlines.Line2D([], [], marker='o',color=\"none\",markeredgecolor=\"black\",\n",
    "                          markersize=8, label='Benign')\n",
    "leg2 = mlines.Line2D([], [], marker='+',color=\"none\",markeredgecolor=\"black\",\n",
    "                          markersize=8, label='Malignant')\n",
    "plt.legend(handles=[leg1,leg2])\n"
   ]
  }
 ],
 "metadata": {
  "interpreter": {
   "hash": "31f2aee4e71d21fbe5cf8b01ff0e069b9275f58929596ceb00d14d90e3e16cd6"
  },
  "kernelspec": {
   "display_name": "Python 3.8.10 64-bit",
   "language": "python",
   "name": "python3"
  },
  "language_info": {
   "codemirror_mode": {
    "name": "ipython",
    "version": 3
   },
   "file_extension": ".py",
   "mimetype": "text/x-python",
   "name": "python",
   "nbconvert_exporter": "python",
   "pygments_lexer": "ipython3",
   "version": "3.8.10"
  },
  "orig_nbformat": 4
 },
 "nbformat": 4,
 "nbformat_minor": 2
}
